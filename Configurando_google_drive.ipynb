{
  "nbformat": 4,
  "nbformat_minor": 0,
  "metadata": {
    "colab": {
      "name": "Configurando google-drive.ipynb",
      "provenance": [],
      "authorship_tag": "ABX9TyPsLslAChfZdyFHFb7kkfgb",
      "include_colab_link": true
    },
    "kernelspec": {
      "name": "python3",
      "display_name": "Python 3"
    },
    "language_info": {
      "name": "python"
    }
  },
  "cells": [
    {
      "cell_type": "markdown",
      "metadata": {
        "id": "view-in-github",
        "colab_type": "text"
      },
      "source": [
        "<a href=\"https://colab.research.google.com/github/alefjonathan29/Python-google-colab/blob/main/Configurando_google_drive.ipynb\" target=\"_parent\"><img src=\"https://colab.research.google.com/assets/colab-badge.svg\" alt=\"Open In Colab\"/></a>"
      ]
    },
    {
      "cell_type": "markdown",
      "metadata": {
        "id": "Pribud3yUbqi"
      },
      "source": [
        "**Configurando pasta do google drive:**"
      ]
    },
    {
      "cell_type": "code",
      "metadata": {
        "id": "UKYf4CH4UUOK"
      },
      "source": [
        "from google.colab import drive\n",
        "drive.mount('/content/drive')"
      ],
      "execution_count": null,
      "outputs": []
    },
    {
      "cell_type": "markdown",
      "metadata": {
        "id": "BuNH_1B-XibU"
      },
      "source": [
        "**Baixando para pasta do google Drive:**"
      ]
    },
    {
      "cell_type": "code",
      "metadata": {
        "id": "9Ps4yXjcVWjD"
      },
      "source": [
        "!wget -c -P '/content/drive/My Drive/Kaggle' http://www.openslr.org/resources/10/sre05-key-v7b.txt.gz"
      ],
      "execution_count": null,
      "outputs": []
    }
  ]
}