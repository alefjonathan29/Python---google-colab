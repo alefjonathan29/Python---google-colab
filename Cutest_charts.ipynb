{
  "nbformat": 4,
  "nbformat_minor": 0,
  "metadata": {
    "colab": {
      "name": "Cutest charts.ipynb",
      "provenance": [],
      "authorship_tag": "ABX9TyMv34HcTtqyH+wg6cqeV0i4",
      "include_colab_link": true
    },
    "kernelspec": {
      "name": "python3",
      "display_name": "Python 3"
    },
    "language_info": {
      "name": "python"
    }
  },
  "cells": [
    {
      "cell_type": "markdown",
      "metadata": {
        "id": "view-in-github",
        "colab_type": "text"
      },
      "source": [
        "<a href=\"https://colab.research.google.com/github/alefjonathan29/Python-google-colab/blob/main/Cutest_charts.ipynb\" target=\"_parent\"><img src=\"https://colab.research.google.com/assets/colab-badge.svg\" alt=\"Open In Colab\"/></a>"
      ]
    },
    {
      "cell_type": "code",
      "metadata": {
        "id": "prSUXnPwYwOk"
      },
      "source": [
        "#https://github.com/cutecharts/cutecharts.py\n",
        "!pip install cutecharts"
      ],
      "execution_count": null,
      "outputs": []
    },
    {
      "cell_type": "code",
      "metadata": {
        "id": "sf9IuD3BZbma"
      },
      "source": [
        "import pandas as pd"
      ],
      "execution_count": 3,
      "outputs": []
    },
    {
      "cell_type": "code",
      "metadata": {
        "id": "xpX2NLVZY21J"
      },
      "source": [
        "import cutecharts.charts as ctc\n"
      ],
      "execution_count": 6,
      "outputs": []
    },
    {
      "cell_type": "code",
      "metadata": {
        "id": "56okotuvZqDe"
      },
      "source": [
        "df = pd.DataFrame({\n",
        "    'x':['Sun.','Mon.','Tue.','Wed.','Thu.','Fri.','Sat.'],\n",
        " 'y':[14,15,17,20,22.3,23.7,24.8],\n",
        " 'z':[16,16.4,23.6,24.5,19.9,13.6,13.4]\n",
        "})"
      ],
      "execution_count": 12,
      "outputs": []
    },
    {
      "cell_type": "code",
      "metadata": {
        "id": "u-70RaOdaHuG"
      },
      "source": [
        "chart = ctc.Bar('Toronto Temperature',width='500px',height='400px')\n"
      ],
      "execution_count": 21,
      "outputs": []
    },
    {
      "cell_type": "code",
      "metadata": {
        "id": "k-RWt1M0aw3S"
      },
      "source": [
        "chart.set_options(\n",
        " labels=list(df['x']),\n",
        " x_label='Days',\n",
        " y_label='Temperature (Celsius)' ,\n",
        " colors=['#1EAFAE' for i in range(len(df))]\n",
        " )\n",
        "chart.add_series('This week',list(df['y']))\n",
        "chart.render_notebook()"
      ],
      "execution_count": null,
      "outputs": []
    },
    {
      "cell_type": "code",
      "metadata": {
        "id": "OywbLAcLbFqr"
      },
      "source": [
        "chart = ctc.Line('Toronto Temperature',width='500px',height='400px')\n",
        "chart.set_options(\n",
        " labels=list(df['x']), \n",
        " x_label='Days',\n",
        " y_label='Temperature (Celsius)' )\n",
        "chart.add_series('This Week', list(df['y'])) \n",
        "chart.add_series('Last Week', list(df['z']))\n",
        "chart.render()\n",
        "chart.rende\n",
        "#chart.render_notbook não está printando no colab, é necessário salvar como \n",
        "#render que gera um html."
      ],
      "execution_count": null,
      "outputs": []
    },
    {
      "cell_type": "code",
      "metadata": {
        "colab": {
          "base_uri": "https://localhost:8080/"
        },
        "id": "DCwWWZ_UcCd_",
        "outputId": "54033bd2-407d-44bf-96da-47d1cded2327"
      },
      "source": [
        "chart"
      ],
      "execution_count": 32,
      "outputs": [
        {
          "output_type": "execute_result",
          "data": {
            "text/plain": [
              "<cutecharts.charts.line.Line at 0x7f44d9489450>"
            ]
          },
          "metadata": {
            "tags": []
          },
          "execution_count": 32
        }
      ]
    },
    {
      "cell_type": "code",
      "metadata": {
        "id": "AvpC199kcEcK"
      },
      "source": [
        ""
      ],
      "execution_count": null,
      "outputs": []
    }
  ]
}