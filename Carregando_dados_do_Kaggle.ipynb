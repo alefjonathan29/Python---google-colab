{
  "nbformat": 4,
  "nbformat_minor": 0,
  "metadata": {
    "colab": {
      "name": "Carregando dados do Kaggle.ipynb",
      "provenance": [],
      "collapsed_sections": [],
      "authorship_tag": "ABX9TyPhy9w6PJDIvDgMjyYOMhlH",
      "include_colab_link": true
    },
    "kernelspec": {
      "name": "python3",
      "display_name": "Python 3"
    },
    "language_info": {
      "name": "python"
    }
  },
  "cells": [
    {
      "cell_type": "markdown",
      "metadata": {
        "id": "view-in-github",
        "colab_type": "text"
      },
      "source": [
        "<a href=\"https://colab.research.google.com/github/alefjonathan29/Python-google-colab/blob/main/Carregando_dados_do_Kaggle.ipynb\" target=\"_parent\"><img src=\"https://colab.research.google.com/assets/colab-badge.svg\" alt=\"Open In Colab\"/></a>"
      ]
    },
    {
      "cell_type": "markdown",
      "metadata": {
        "id": "AM9BJqDXPth3"
      },
      "source": [
        "**Função para carregar arquivo kaggle.json:**\n",
        "\n",
        "Para obter esse arquivo preciso abrir as configurações do meu Kaggle e criar uma nova api."
      ]
    },
    {
      "cell_type": "code",
      "metadata": {
        "id": "N-ToFzZwNc2V"
      },
      "source": [
        "from google.colab import files\n",
        "\n",
        "uploaded = files.upload()\n",
        "\n",
        "for fn in uploaded.keys(): \n",
        "  print('User uploaded files \"{name}\" with length bytes'. format(\n",
        "      name=fn, length=len(uploaded[fn])\n",
        "  ))\n",
        "\n",
        "!mkdir -p ~/.kaggle && mv kaggle.json ~/.kaggle/ && chmod 600 /.kaggle/kaggle.json"
      ],
      "execution_count": null,
      "outputs": []
    },
    {
      "cell_type": "markdown",
      "metadata": {
        "id": "UicIsSAzQJU7"
      },
      "source": [
        "**Mostrando lista de competições do Kaggle:**"
      ]
    },
    {
      "cell_type": "code",
      "metadata": {
        "id": "N6LQMDxkPMEa"
      },
      "source": [
        "!kaggle competitions list"
      ],
      "execution_count": null,
      "outputs": []
    },
    {
      "cell_type": "markdown",
      "metadata": {
        "id": "ZIhvPN22QPKe"
      },
      "source": [
        "**Carregando dataset titanic do Kaggle:**"
      ]
    },
    {
      "cell_type": "code",
      "metadata": {
        "id": "FzhfflE_Pa57"
      },
      "source": [
        "!kaggle competitions download -c titanic"
      ],
      "execution_count": null,
      "outputs": []
    }
  ]
}