{
  "nbformat": 4,
  "nbformat_minor": 0,
  "metadata": {
    "colab": {
      "name": "Introdução ao python.ipynb",
      "provenance": [],
      "authorship_tag": "ABX9TyM1kQRblTRtJX+9sYNPhB9E",
      "include_colab_link": true
    },
    "kernelspec": {
      "name": "python3",
      "display_name": "Python 3"
    },
    "language_info": {
      "name": "python"
    }
  },
  "cells": [
    {
      "cell_type": "markdown",
      "metadata": {
        "id": "view-in-github",
        "colab_type": "text"
      },
      "source": [
        "<a href=\"https://colab.research.google.com/github/alefjonathan29/Python-google-colab/blob/main/Introdu%C3%A7%C3%A3o_ao_python.ipynb\" target=\"_parent\"><img src=\"https://colab.research.google.com/assets/colab-badge.svg\" alt=\"Open In Colab\"/></a>"
      ]
    },
    {
      "cell_type": "markdown",
      "metadata": {
        "id": "DQQz_HFUKyZf"
      },
      "source": [
        "Introdução ao python "
      ]
    },
    {
      "cell_type": "code",
      "metadata": {
        "id": "h2ukXgjrKvO_",
        "colab": {
          "base_uri": "https://localhost:8080/"
        },
        "outputId": "77d05560-fdc0-496a-b043-67203eb727bf"
      },
      "source": [
        "print(\"Introdução ao aprendizado com o Python\")"
      ],
      "execution_count": 2,
      "outputs": [
        {
          "output_type": "stream",
          "text": [
            "Introdução ao aprendizado com o Python\n"
          ],
          "name": "stdout"
        }
      ]
    },
    {
      "cell_type": "code",
      "metadata": {
        "id": "tEpY3L2gLZLL"
      },
      "source": [
        "x = 1"
      ],
      "execution_count": 3,
      "outputs": []
    },
    {
      "cell_type": "code",
      "metadata": {
        "colab": {
          "base_uri": "https://localhost:8080/"
        },
        "id": "ZKppOukzLhKD",
        "outputId": "b45264a2-1055-4224-806f-5b7b45cb40ed"
      },
      "source": [
        "x"
      ],
      "execution_count": 4,
      "outputs": [
        {
          "output_type": "execute_result",
          "data": {
            "text/plain": [
              "1"
            ]
          },
          "metadata": {
            "tags": []
          },
          "execution_count": 4
        }
      ]
    },
    {
      "cell_type": "code",
      "metadata": {
        "colab": {
          "base_uri": "https://localhost:8080/"
        },
        "id": "agKsDWocLh49",
        "outputId": "fca8b432-c363-4ad7-c79e-7fe07e7b24ba"
      },
      "source": [
        "print(x)"
      ],
      "execution_count": 5,
      "outputs": [
        {
          "output_type": "stream",
          "text": [
            "1\n"
          ],
          "name": "stdout"
        }
      ]
    },
    {
      "cell_type": "code",
      "metadata": {
        "id": "KtyWOeG4LjgY"
      },
      "source": [
        "y =3.1"
      ],
      "execution_count": 6,
      "outputs": []
    },
    {
      "cell_type": "code",
      "metadata": {
        "id": "R3ZFS40uLmSd"
      },
      "source": [
        "z = \"Python\""
      ],
      "execution_count": 8,
      "outputs": []
    },
    {
      "cell_type": "code",
      "metadata": {
        "colab": {
          "base_uri": "https://localhost:8080/",
          "height": 35
        },
        "id": "t7Dw0R8ILny0",
        "outputId": "392e850d-7397-4cd9-99cb-67f606d8fa4f"
      },
      "source": [
        "z"
      ],
      "execution_count": 9,
      "outputs": [
        {
          "output_type": "execute_result",
          "data": {
            "application/vnd.google.colaboratory.intrinsic+json": {
              "type": "string"
            },
            "text/plain": [
              "'Python'"
            ]
          },
          "metadata": {
            "tags": []
          },
          "execution_count": 9
        }
      ]
    },
    {
      "cell_type": "code",
      "metadata": {
        "colab": {
          "base_uri": "https://localhost:8080/"
        },
        "id": "pq0VlWXCLuhT",
        "outputId": "a3887452-c732-497b-f0eb-fd68cad3e584"
      },
      "source": [
        "print(z)"
      ],
      "execution_count": 10,
      "outputs": [
        {
          "output_type": "stream",
          "text": [
            "Python\n"
          ],
          "name": "stdout"
        }
      ]
    },
    {
      "cell_type": "code",
      "metadata": {
        "id": "n9w30eg_LwYT"
      },
      "source": [
        "x = 10\n",
        "y = 20 \n",
        "z = 100\n",
        "w = (x+y)*z /100"
      ],
      "execution_count": 11,
      "outputs": []
    },
    {
      "cell_type": "code",
      "metadata": {
        "colab": {
          "base_uri": "https://localhost:8080/"
        },
        "id": "pAKhYnr7L8Sk",
        "outputId": "101a0f18-89b6-4221-97b5-2adaf84f4fee"
      },
      "source": [
        "print(w)"
      ],
      "execution_count": 12,
      "outputs": [
        {
          "output_type": "stream",
          "text": [
            "30.0\n"
          ],
          "name": "stdout"
        }
      ]
    },
    {
      "cell_type": "code",
      "metadata": {
        "colab": {
          "base_uri": "https://localhost:8080/"
        },
        "id": "uNwq2I8kL93k",
        "outputId": "ef9bb2c6-61d2-46a4-90d9-5be5860e7d54"
      },
      "source": [
        "print(\"Este texto será impresso no consile\")"
      ],
      "execution_count": 13,
      "outputs": [
        {
          "output_type": "stream",
          "text": [
            "Este texto será impresso no consile\n"
          ],
          "name": "stdout"
        }
      ]
    },
    {
      "cell_type": "code",
      "metadata": {
        "colab": {
          "base_uri": "https://localhost:8080/"
        },
        "id": "xtot2xqaMGG8",
        "outputId": "4bcd954e-c94e-4c1d-f283-99bea9091eee"
      },
      "source": [
        "print(x)"
      ],
      "execution_count": 14,
      "outputs": [
        {
          "output_type": "stream",
          "text": [
            "10\n"
          ],
          "name": "stdout"
        }
      ]
    },
    {
      "cell_type": "code",
      "metadata": {
        "colab": {
          "base_uri": "https://localhost:8080/"
        },
        "id": "0BFzHZ87MHRT",
        "outputId": "7e124d9b-081d-4347-f703-d22f884dbf69"
      },
      "source": [
        "print(\"Texto e duas variáveis\", x, z)"
      ],
      "execution_count": 15,
      "outputs": [
        {
          "output_type": "stream",
          "text": [
            "Texto e duas variáveis 10 100\n"
          ],
          "name": "stdout"
        }
      ]
    },
    {
      "cell_type": "code",
      "metadata": {
        "colab": {
          "base_uri": "https://localhost:8080/"
        },
        "id": "FyckRAbsMMjl",
        "outputId": "870c365b-ff38-48d7-8b26-286d9693ba54"
      },
      "source": [
        "type(z)"
      ],
      "execution_count": 16,
      "outputs": [
        {
          "output_type": "execute_result",
          "data": {
            "text/plain": [
              "int"
            ]
          },
          "metadata": {
            "tags": []
          },
          "execution_count": 16
        }
      ]
    },
    {
      "cell_type": "code",
      "metadata": {
        "colab": {
          "base_uri": "https://localhost:8080/"
        },
        "id": "6Tv_63mqMQq9",
        "outputId": "d211e030-4e38-4185-bb5e-8ebb443b989c"
      },
      "source": [
        "type(w)"
      ],
      "execution_count": 17,
      "outputs": [
        {
          "output_type": "execute_result",
          "data": {
            "text/plain": [
              "float"
            ]
          },
          "metadata": {
            "tags": []
          },
          "execution_count": 17
        }
      ]
    },
    {
      "cell_type": "code",
      "metadata": {
        "id": "oVIhf-q-MUkL"
      },
      "source": [
        "b = \"Python\""
      ],
      "execution_count": 18,
      "outputs": []
    },
    {
      "cell_type": "code",
      "metadata": {
        "colab": {
          "base_uri": "https://localhost:8080/"
        },
        "id": "A67MGDXzMbyQ",
        "outputId": "d7972404-70f0-4a63-987a-6f1bb8c68193"
      },
      "source": [
        "type(b)"
      ],
      "execution_count": 19,
      "outputs": [
        {
          "output_type": "execute_result",
          "data": {
            "text/plain": [
              "str"
            ]
          },
          "metadata": {
            "tags": []
          },
          "execution_count": 19
        }
      ]
    },
    {
      "cell_type": "code",
      "metadata": {
        "colab": {
          "base_uri": "https://localhost:8080/"
        },
        "id": "ZAY7nT66Mdxs",
        "outputId": "fbd2d839-b3f5-44fe-db5f-4b5b6bd88ac6"
      },
      "source": [
        "a = input(\"Informe um valor\")"
      ],
      "execution_count": 20,
      "outputs": [
        {
          "output_type": "stream",
          "text": [
            "Informe um valor10\n"
          ],
          "name": "stdout"
        }
      ]
    },
    {
      "cell_type": "code",
      "metadata": {
        "colab": {
          "base_uri": "https://localhost:8080/"
        },
        "id": "3RugFmGsMj0l",
        "outputId": "2a734a3f-b653-4747-8356-056d21ccdce0"
      },
      "source": [
        "print(a)"
      ],
      "execution_count": 21,
      "outputs": [
        {
          "output_type": "stream",
          "text": [
            "10\n"
          ],
          "name": "stdout"
        }
      ]
    },
    {
      "cell_type": "code",
      "metadata": {
        "colab": {
          "base_uri": "https://localhost:8080/"
        },
        "id": "7wyHwWwLMmFD",
        "outputId": "593d40a2-f057-47e5-97df-882213b2f872"
      },
      "source": [
        "type(a)"
      ],
      "execution_count": 22,
      "outputs": [
        {
          "output_type": "execute_result",
          "data": {
            "text/plain": [
              "str"
            ]
          },
          "metadata": {
            "tags": []
          },
          "execution_count": 22
        }
      ]
    },
    {
      "cell_type": "markdown",
      "metadata": {
        "id": "zS5VNfimM6tv"
      },
      "source": [
        "Transformando para outro tipo:"
      ]
    },
    {
      "cell_type": "code",
      "metadata": {
        "id": "jTCYU0S7MyEf"
      },
      "source": [
        "a = int(a) #Transformando objeto em inteiro"
      ],
      "execution_count": 23,
      "outputs": []
    },
    {
      "cell_type": "code",
      "metadata": {
        "colab": {
          "base_uri": "https://localhost:8080/"
        },
        "id": "9-uwgZdUM3NI",
        "outputId": "84563ee6-c95d-47d3-aec6-0b34cc1671c0"
      },
      "source": [
        "type(a) #Visualizando o tipo do objeto"
      ],
      "execution_count": 24,
      "outputs": [
        {
          "output_type": "execute_result",
          "data": {
            "text/plain": [
              "int"
            ]
          },
          "metadata": {
            "tags": []
          },
          "execution_count": 24
        }
      ]
    },
    {
      "cell_type": "code",
      "metadata": {
        "colab": {
          "base_uri": "https://localhost:8080/"
        },
        "id": "gHXNm5ejM4TA",
        "outputId": "92d90fdd-088e-449a-952f-0b3b709b0ef9"
      },
      "source": [
        "'''Aqui começa um comentário \n",
        "aqui ele continua \n",
        "e aqui ele termina.'''\n",
        "print(a)"
      ],
      "execution_count": 26,
      "outputs": [
        {
          "output_type": "stream",
          "text": [
            "10\n"
          ],
          "name": "stdout"
        }
      ]
    },
    {
      "cell_type": "code",
      "metadata": {
        "id": "l6D464DGNhPd"
      },
      "source": [
        ""
      ],
      "execution_count": null,
      "outputs": []
    }
  ]
}